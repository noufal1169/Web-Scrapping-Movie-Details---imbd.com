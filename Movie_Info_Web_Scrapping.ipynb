{
  "nbformat": 4,
  "nbformat_minor": 0,
  "metadata": {
    "colab": {
      "name": "Movie Info Web Scrapping.ipynb",
      "provenance": [],
      "collapsed_sections": [],
      "authorship_tag": "ABX9TyMMMHOp/UBkwXgT5zSnOnqY",
      "include_colab_link": true
    },
    "kernelspec": {
      "name": "python3",
      "display_name": "Python 3"
    },
    "language_info": {
      "name": "python"
    }
  },
  "cells": [
    {
      "cell_type": "markdown",
      "metadata": {
        "id": "view-in-github",
        "colab_type": "text"
      },
      "source": [
        "<a href=\"https://colab.research.google.com/github/noufal1169/Web-Scrapping-Movie-Details---imbd.com/blob/main/Movie_Info_Web_Scrapping.ipynb\" target=\"_parent\"><img src=\"https://colab.research.google.com/assets/colab-badge.svg\" alt=\"Open In Colab\"/></a>"
      ]
    },
    {
      "cell_type": "code",
      "metadata": {
        "id": "YU7EobOyrImw"
      },
      "source": [
        "import requests\n",
        "from bs4 import BeautifulSoup\n",
        "import pandas as pd\n",
        "from time import sleep\n",
        "from random import randint\n",
        "from IPython.display import clear_output"
      ],
      "execution_count": 1,
      "outputs": []
    },
    {
      "cell_type": "code",
      "metadata": {
        "id": "J_4_JY9frPMi"
      },
      "source": [
        "#https://www.imdb.com/search/title/?release_date=2021-01-01,2021-12-31&sort=num_votes,desc&start=51&ref_=adv_nxt\n",
        "#https://www.imdb.com/search/title/?release_date=2021-01-01,2021-12-31&sort=num_votes,desc&start=101&ref_=adv_nxt\n",
        "#https://www.imdb.com/search/title/?release_date=2021-01-01,2021-12-31&sort=num_votes,desc&start=151&ref_=adv_nxt"
      ],
      "execution_count": 2,
      "outputs": []
    },
    {
      "cell_type": "code",
      "metadata": {
        "id": "LGn6MLNWrhYf"
      },
      "source": [
        "base_url = 'https://www.imdb.com/search/title/?release_date=2021-01-01,2021-12-31&sort=num_votes,desc&start='"
      ],
      "execution_count": 3,
      "outputs": []
    },
    {
      "cell_type": "code",
      "metadata": {
        "colab": {
          "base_uri": "https://localhost:8080/"
        },
        "id": "fI_fFGuNrov2",
        "outputId": "574a0b7e-9a20-4ab1-ad62-0ce494967120"
      },
      "source": [
        "names = []\n",
        "release_years = []\n",
        "certificates = []\n",
        "durations = []\n",
        "genres = []\n",
        "imbd_ratings = []\n",
        "metascores = []\n",
        "votes = []\n",
        "\n",
        "movie_no = 1\n",
        "\n",
        "for i in range(1,1500,50):\n",
        "  sleep(randint(3,7))\n",
        "  req = requests.get(base_url+str(i)+'&ref_=adv_nxt',headers = {'Accept-Language':'en-US, en;q=0.5'})\n",
        "  soup = BeautifulSoup(req.text,'html')\n",
        "\n",
        "  if movie_no > 1050:\n",
        "    break\n",
        "\n",
        "  #taking each movie in a list\n",
        "  movies_info = soup.findAll('div',attrs={'class':'lister-item-content'})\n",
        "\n",
        "  # loopin through each movie to collect details \n",
        "  for movie in movies_info:\n",
        "\n",
        "    print(f'scrapping data of movie {movie_no}')\n",
        "    clear_output(wait=True)\n",
        "\n",
        "    movie_no += 1\n",
        "  \n",
        "    #movie name\n",
        "    movie_name = movie.find('h3',attrs={'class':'lister-item-header'}).a.text \n",
        "    names.append(movie_name)\n",
        "\n",
        "    #release year\n",
        "    release_year = movie.find('span',attrs={'class':'lister-item-year text-muted unbold'}).text\n",
        "    release_years.append(release_year)\n",
        "\n",
        "    #certificate\n",
        "    certificate = movie.find('span',attrs={'class':'certificate'})\n",
        "    if certificate is None:\n",
        "      certificates.append(\"Not Available\")\n",
        "    else:\n",
        "      certificates.append(certificate.text)\n",
        "  \n",
        "    #duration\n",
        "    duration = movie.find('span',attrs={'class':'runtime'})\n",
        "    if duration is None:\n",
        "      durations.append(\"Not Available\")\n",
        "    else:\n",
        "      durations.append(duration.text)\n",
        "\n",
        "    #genre\n",
        "    genre = movie.find('span',attrs={'class':'genre'})\n",
        "    if genre is None:\n",
        "      genres.append('Not Available')\n",
        "    else:\n",
        "      genres.append(genre.text.strip())\n",
        "\n",
        "    #IMBD\n",
        "    imbd = movie.find('div',attrs={'class':'inline-block ratings-imdb-rating'}).strong.text\n",
        "    imbd_ratings.append(imbd)\n",
        "\n",
        "    #metascore\n",
        "    metascore = movie.find('div',attrs={'class':'inline-block ratings-metascore'})\n",
        "    if metascore is None:\n",
        "      metascores.append(\"Not Available\")\n",
        "    else:\n",
        "      metascores.append(metascore.span.text.strip())\n",
        "  \n",
        "    #votes\n",
        "    vote = movie.find('span',attrs={'name':'nv'}).text\n",
        "    votes.append(vote)\n",
        "\n"
      ],
      "execution_count": 8,
      "outputs": [
        {
          "output_type": "stream",
          "text": [
            "scrapping data of movie 1050\n"
          ],
          "name": "stdout"
        }
      ]
    },
    {
      "cell_type": "code",
      "metadata": {
        "colab": {
          "base_uri": "https://localhost:8080/"
        },
        "id": "JnkkyeTVt_lF",
        "outputId": "0b031897-2fec-4b54-b687-feb91ac49e70"
      },
      "source": [
        "# checking whether length of each column are same for creating the dataframe\n",
        "\n",
        "print(len(names))\n",
        "print(len(release_years))\n",
        "print(len(certificates))\n",
        "print(len(durations))\n",
        "print(len(genres))\n",
        "print(len(imbd_ratings))\n",
        "print(len(metascores))\n",
        "print(len(votes))"
      ],
      "execution_count": 9,
      "outputs": [
        {
          "output_type": "stream",
          "text": [
            "1050\n",
            "1050\n",
            "1050\n",
            "1050\n",
            "1050\n",
            "1050\n",
            "1050\n",
            "1050\n"
          ],
          "name": "stdout"
        }
      ]
    },
    {
      "cell_type": "code",
      "metadata": {
        "colab": {
          "base_uri": "https://localhost:8080/",
          "height": 589
        },
        "id": "aeZF8ucYuo3f",
        "outputId": "dc27cbcb-c808-49b1-876d-d9fd07ed28f5"
      },
      "source": [
        "df = pd.DataFrame({'Movie':names,\n",
        "                   'Release Year':release_years,\n",
        "                   'Certification':certificates,\n",
        "                   'Duration':durations,\n",
        "                   'Genre':genres,\n",
        "                   'Imbd':imbd_ratings,\n",
        "                   'Metascore':metascores,\n",
        "                   'Votes':votes})\n",
        "df"
      ],
      "execution_count": 10,
      "outputs": [
        {
          "output_type": "execute_result",
          "data": {
            "text/html": [
              "<div>\n",
              "<style scoped>\n",
              "    .dataframe tbody tr th:only-of-type {\n",
              "        vertical-align: middle;\n",
              "    }\n",
              "\n",
              "    .dataframe tbody tr th {\n",
              "        vertical-align: top;\n",
              "    }\n",
              "\n",
              "    .dataframe thead th {\n",
              "        text-align: right;\n",
              "    }\n",
              "</style>\n",
              "<table border=\"1\" class=\"dataframe\">\n",
              "  <thead>\n",
              "    <tr style=\"text-align: right;\">\n",
              "      <th></th>\n",
              "      <th>Movie</th>\n",
              "      <th>Release Year</th>\n",
              "      <th>Certification</th>\n",
              "      <th>Duration</th>\n",
              "      <th>Genre</th>\n",
              "      <th>Imbd</th>\n",
              "      <th>Metascore</th>\n",
              "      <th>Votes</th>\n",
              "    </tr>\n",
              "  </thead>\n",
              "  <tbody>\n",
              "    <tr>\n",
              "      <th>0</th>\n",
              "      <td>Zack Snyder's Justice League</td>\n",
              "      <td>(2021)</td>\n",
              "      <td>R</td>\n",
              "      <td>242 min</td>\n",
              "      <td>Action, Adventure, Fantasy</td>\n",
              "      <td>8.1</td>\n",
              "      <td>54</td>\n",
              "      <td>305,981</td>\n",
              "    </tr>\n",
              "    <tr>\n",
              "      <th>1</th>\n",
              "      <td>Aspirants</td>\n",
              "      <td>(2021– )</td>\n",
              "      <td>Not Available</td>\n",
              "      <td>45 min</td>\n",
              "      <td>Drama</td>\n",
              "      <td>9.0</td>\n",
              "      <td>Not Available</td>\n",
              "      <td>271,712</td>\n",
              "    </tr>\n",
              "    <tr>\n",
              "      <th>2</th>\n",
              "      <td>WandaVision</td>\n",
              "      <td>(2021)</td>\n",
              "      <td>TV-PG</td>\n",
              "      <td>350 min</td>\n",
              "      <td>Action, Comedy, Drama</td>\n",
              "      <td>8.1</td>\n",
              "      <td>Not Available</td>\n",
              "      <td>185,274</td>\n",
              "    </tr>\n",
              "    <tr>\n",
              "      <th>3</th>\n",
              "      <td>Radhe</td>\n",
              "      <td>(2021)</td>\n",
              "      <td>TV-MA</td>\n",
              "      <td>135 min</td>\n",
              "      <td>Action, Crime, Thriller</td>\n",
              "      <td>1.8</td>\n",
              "      <td>Not Available</td>\n",
              "      <td>163,375</td>\n",
              "    </tr>\n",
              "    <tr>\n",
              "      <th>4</th>\n",
              "      <td>Godzilla vs. Kong</td>\n",
              "      <td>(2021)</td>\n",
              "      <td>PG-13</td>\n",
              "      <td>113 min</td>\n",
              "      <td>Action, Sci-Fi, Thriller</td>\n",
              "      <td>6.4</td>\n",
              "      <td>59</td>\n",
              "      <td>145,364</td>\n",
              "    </tr>\n",
              "    <tr>\n",
              "      <th>...</th>\n",
              "      <td>...</td>\n",
              "      <td>...</td>\n",
              "      <td>...</td>\n",
              "      <td>...</td>\n",
              "      <td>...</td>\n",
              "      <td>...</td>\n",
              "      <td>...</td>\n",
              "      <td>...</td>\n",
              "    </tr>\n",
              "    <tr>\n",
              "      <th>1045</th>\n",
              "      <td>86</td>\n",
              "      <td>(2021– )</td>\n",
              "      <td>TV-14</td>\n",
              "      <td>24 min</td>\n",
              "      <td>Animation, Action, Drama</td>\n",
              "      <td>8.0</td>\n",
              "      <td>Not Available</td>\n",
              "      <td>653</td>\n",
              "    </tr>\n",
              "    <tr>\n",
              "      <th>1046</th>\n",
              "      <td>Superstore</td>\n",
              "      <td>(2015–2021)</td>\n",
              "      <td>TV-14</td>\n",
              "      <td>21 min</td>\n",
              "      <td>Comedy</td>\n",
              "      <td>8.3</td>\n",
              "      <td>Not Available</td>\n",
              "      <td>653</td>\n",
              "    </tr>\n",
              "    <tr>\n",
              "      <th>1047</th>\n",
              "      <td>Snowkissed</td>\n",
              "      <td>(2021 TV Movie)</td>\n",
              "      <td>TV-G</td>\n",
              "      <td>84 min</td>\n",
              "      <td>Comedy, Romance</td>\n",
              "      <td>6.2</td>\n",
              "      <td>Not Available</td>\n",
              "      <td>652</td>\n",
              "    </tr>\n",
              "    <tr>\n",
              "      <th>1048</th>\n",
              "      <td>The Irregulars</td>\n",
              "      <td>(2021)</td>\n",
              "      <td>TV-14</td>\n",
              "      <td>58 min</td>\n",
              "      <td>Crime, Drama, Fantasy</td>\n",
              "      <td>6.4</td>\n",
              "      <td>Not Available</td>\n",
              "      <td>652</td>\n",
              "    </tr>\n",
              "    <tr>\n",
              "      <th>1049</th>\n",
              "      <td>That Time I Got Reincarnated as a Slime</td>\n",
              "      <td>(2018– )</td>\n",
              "      <td>TV-PG</td>\n",
              "      <td>Not Available</td>\n",
              "      <td>Animation, Action, Adventure</td>\n",
              "      <td>9.8</td>\n",
              "      <td>Not Available</td>\n",
              "      <td>651</td>\n",
              "    </tr>\n",
              "  </tbody>\n",
              "</table>\n",
              "<p>1050 rows × 8 columns</p>\n",
              "</div>"
            ],
            "text/plain": [
              "                                         Movie  ...    Votes\n",
              "0                 Zack Snyder's Justice League  ...  305,981\n",
              "1                                    Aspirants  ...  271,712\n",
              "2                                  WandaVision  ...  185,274\n",
              "3                                        Radhe  ...  163,375\n",
              "4                            Godzilla vs. Kong  ...  145,364\n",
              "...                                        ...  ...      ...\n",
              "1045                                        86  ...      653\n",
              "1046                                Superstore  ...      653\n",
              "1047                                Snowkissed  ...      652\n",
              "1048                            The Irregulars  ...      652\n",
              "1049   That Time I Got Reincarnated as a Slime  ...      651\n",
              "\n",
              "[1050 rows x 8 columns]"
            ]
          },
          "metadata": {
            "tags": []
          },
          "execution_count": 10
        }
      ]
    },
    {
      "cell_type": "code",
      "metadata": {
        "id": "1JWahWz4vZuP"
      },
      "source": [
        "df.to_csv('movie details.csv')"
      ],
      "execution_count": 12,
      "outputs": []
    },
    {
      "cell_type": "code",
      "metadata": {
        "id": "HaA3aAL3Bp2V"
      },
      "source": [
        ""
      ],
      "execution_count": null,
      "outputs": []
    }
  ]
}